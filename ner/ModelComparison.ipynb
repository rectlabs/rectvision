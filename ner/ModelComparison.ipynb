{
  "nbformat": 4,
  "nbformat_minor": 0,
  "metadata": {
    "colab": {
      "name": "Text Annotation.ipynb",
      "provenance": [],
      "collapsed_sections": []
    },
    "kernelspec": {
      "name": "python3",
      "display_name": "Python 3"
    },
    "language_info": {
      "name": "python"
    }
  },
  "cells": [
    {
      "cell_type": "markdown",
      "source": [
        "This notebook contains a qualitative comparisons of best NER models based on research, so as to decide which one to implement. "
      ],
      "metadata": {
        "id": "NkUMiSVidi5Y"
      }
    },
    {
      "cell_type": "code",
      "source": [
        "import nltk\n",
        "nltk.download('punkt')\n",
        "nltk.download('averaged_perceptron_tagger')\n",
        "nltk.download('maxent_ne_chunker')\n",
        "nltk.download('words')\n",
        "\n",
        "import spacy\n",
        "\n",
        "# !python -m spacy download en_core_web_trf\n",
        "!python -m spacy download en_core_web_md\n"
      ],
      "metadata": {
        "id": "lxWX8anGGGGv"
      },
      "execution_count": null,
      "outputs": []
    },
    {
      "cell_type": "markdown",
      "source": [
        "##Model Comparisons:\n",
        "`en_core_web_sm`, `en_core_web_md` and nltk models."
      ],
      "metadata": {
        "id": "4D8N-3T49b0Z"
      }
    },
    {
      "cell_type": "code",
      "execution_count": null,
      "metadata": {
        "id": "JjaQgTrg9X-L"
      },
      "outputs": [],
      "source": [
        "nlp_sm = spacy.load(\"en_core_web_sm\")\n",
        "nlp_md = spacy.load(\"en_core_web_md\")"
      ]
    },
    {
      "cell_type": "code",
      "source": [
        "sentences = [\"WASHINGTON -- In the wake of a string of abuses by New York police officers in the 1990s, Loretta E. Lynch, the top federal prosecutor in Brooklyn, spoke forcefully about the pain of a broken trust that African-Americans felt and said the responsibility for repairing generations of miscommunication and mistrust fell to law enforcement.\",\n",
        "             \"Nigerian President Muhammadu Buhari has condemned the killing of one of two Catholic priests by kidnappers in the northern state of Kaduna.\",\n",
        "             'He said the armed groups behind the spate of kidnappings of Christian clerics \"seem to be bent on creating chaos and disorder in the country\"',\n",
        "             \"Emmanuel Onuarah, the president of the Premium Bread Makers Association, told the BBC that some bakeries had had to fire their staff as they were not able to pay salaries.\",\n",
        "             \"He suggested that the government should stop charging a 15% tax on imported wheat - the price of which has already shot up this year because of the war in Ukraine.\",\n",
        "             \"The youths had attended a wedding in Imo state and were on their way home when they were shot, Amnesty said.\",\n",
        "             \"The famous Nigerian author Chimamanda Ngozi Adichie has thrown her support behind the Labour Party's presidential candidate, Peter Obi, ahead of the country's February 2023 elections.\",\n",
        "             \"He was dubbed Super Mario for his handling of the eurozone crisis as head of the European Central Bank. In February last year, he was given the task of guiding Italy through the Covid pandemic and economic recovery, bolstered by a big EU package conditional on major reforms.\"]"
      ],
      "metadata": {
        "id": "Z_xrI8ybFV6G"
      },
      "execution_count": null,
      "outputs": []
    },
    {
      "cell_type": "code",
      "source": [
        "# spaCy small NER model\n",
        "for sentence in sentences:\n",
        "  doc = nlp_sm(sentence)\n",
        "  print(\"\\n\")\n",
        "  for entity in doc.ents:\n",
        "    print(entity.text, entity.label_)"
      ],
      "metadata": {
        "colab": {
          "base_uri": "https://localhost:8080/"
        },
        "id": "hDFl5ty6Ikeu",
        "outputId": "bd533eb3-678c-42e3-8e35-5ae54f8e8491"
      },
      "execution_count": null,
      "outputs": [
        {
          "output_type": "stream",
          "name": "stdout",
          "text": [
            "\n",
            "\n",
            "WASHINGTON GPE\n",
            "New York GPE\n",
            "the 1990s DATE\n",
            "Loretta E. Lynch PERSON\n",
            "Brooklyn GPE\n",
            "African-Americans NORP\n",
            "\n",
            "\n",
            "Nigerian NORP\n",
            "Muhammadu Buhari PERSON\n",
            "one CARDINAL\n",
            "two CARDINAL\n",
            "Catholic NORP\n",
            "Kaduna GPE\n",
            "\n",
            "\n",
            "Christian NORP\n",
            "\n",
            "\n",
            "Emmanuel Onuarah PERSON\n",
            "the Premium Bread Makers Association ORG\n",
            "BBC ORG\n",
            "\n",
            "\n",
            "15% PERCENT\n",
            "this year DATE\n",
            "Ukraine GPE\n",
            "\n",
            "\n",
            "Amnesty ORG\n",
            "\n",
            "\n",
            "Nigerian NORP\n",
            "Chimamanda Ngozi Adichie PERSON\n",
            "the Labour Party's ORG\n",
            "Peter Obi PERSON\n",
            "February 2023 DATE\n",
            "\n",
            "\n",
            "the European Central Bank ORG\n",
            "February last year DATE\n",
            "Italy GPE\n",
            "EU GPE\n"
          ]
        }
      ]
    },
    {
      "cell_type": "code",
      "source": [
        "# spaCy medium NER model\n",
        "for sentence in sentences:\n",
        "  doc = nlp_md(sentence)\n",
        "  print(\"\\n\")\n",
        "  for entity in doc.ents:\n",
        "    print(entity.text, entity.label_)"
      ],
      "metadata": {
        "colab": {
          "base_uri": "https://localhost:8080/"
        },
        "id": "UQHfJWQEVgNb",
        "outputId": "5e8f7223-d95d-4657-a66f-d07702387796"
      },
      "execution_count": null,
      "outputs": [
        {
          "output_type": "stream",
          "name": "stdout",
          "text": [
            "\n",
            "\n",
            "WASHINGTON GPE\n",
            "New York GPE\n",
            "the 1990s DATE\n",
            "Loretta E. Lynch PERSON\n",
            "Brooklyn GPE\n",
            "African-Americans NORP\n",
            "\n",
            "\n",
            "Nigerian NORP\n",
            "Muhammadu Buhari PERSON\n",
            "one CARDINAL\n",
            "two CARDINAL\n",
            "Catholic NORP\n",
            "Kaduna GPE\n",
            "\n",
            "\n",
            "Christian NORP\n",
            "\n",
            "\n",
            "Emmanuel Onuarah PERSON\n",
            "the Premium Bread Makers Association ORG\n",
            "BBC ORG\n",
            "\n",
            "\n",
            "15% PERCENT\n",
            "this year DATE\n",
            "Ukraine GPE\n",
            "\n",
            "\n",
            "Amnesty ORG\n",
            "\n",
            "\n",
            "Nigerian NORP\n",
            "Chimamanda Ngozi Adichie PERSON\n",
            "the Labour Party's ORG\n",
            "Peter Obi PERSON\n",
            "February 2023 DATE\n",
            "\n",
            "\n",
            "the European Central Bank ORG\n",
            "February last year DATE\n",
            "Italy GPE\n",
            "EU ORG\n"
          ]
        }
      ]
    },
    {
      "cell_type": "code",
      "source": [
        "# NLTK\n",
        "for sentence in sentences:\n",
        "  for sent in nltk.sent_tokenize(sentence):\n",
        "    for chunk in nltk.ne_chunk(nltk.pos_tag(nltk.word_tokenize(sent))):\n",
        "      if hasattr(chunk, 'label'):\n",
        "          print(chunk.label(), ' '.join(c[0] for c in chunk))"
      ],
      "metadata": {
        "id": "H2G3D9q3WxzU",
        "colab": {
          "base_uri": "https://localhost:8080/"
        },
        "outputId": "e1c04804-63d5-489c-e99a-685a456a53c2"
      },
      "execution_count": null,
      "outputs": [
        {
          "output_type": "stream",
          "name": "stdout",
          "text": [
            "GPE WASHINGTON\n",
            "GPE New York\n",
            "PERSON Loretta E. Lynch\n",
            "GPE Brooklyn\n",
            "GPE Nigerian\n",
            "PERSON Muhammadu Buhari\n",
            "ORGANIZATION Catholic\n",
            "GPE Kaduna\n",
            "GPE Christian\n",
            "PERSON Emmanuel\n",
            "ORGANIZATION Onuarah\n",
            "ORGANIZATION BBC\n",
            "GPE Ukraine\n",
            "GPE Imo\n",
            "PERSON Amnesty\n",
            "GPE Nigerian\n",
            "ORGANIZATION Chimamanda Ngozi Adichie\n",
            "ORGANIZATION Labour Party\n",
            "PERSON Peter Obi\n",
            "PERSON Super Mario\n",
            "ORGANIZATION European Central Bank\n",
            "GPE Italy\n",
            "GPE Covid\n",
            "GPE EU\n"
          ]
        }
      ]
    },
    {
      "cell_type": "markdown",
      "source": [
        "These results are analysed [here](https://1drv.ms/w/s!AhOCUnnVayEAe73EAJl1oQExymo?e=xqqqU6).\n",
        "\n",
        "\n",
        "Since the first model (`en_core_web_sm`) has a small size (12MB) and outperformed NLTK, it could be more efficient for implementation. "
      ],
      "metadata": {
        "id": "5g5sPVV2d11K"
      }
    },
    {
      "cell_type": "code",
      "source": [
        ""
      ],
      "metadata": {
        "id": "lkwh32TvL-Bx"
      },
      "execution_count": null,
      "outputs": []
    }
  ]
}